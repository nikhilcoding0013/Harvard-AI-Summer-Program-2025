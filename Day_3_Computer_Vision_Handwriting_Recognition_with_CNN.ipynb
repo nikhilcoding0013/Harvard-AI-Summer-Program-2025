{
  "cells": [
    {
      "cell_type": "markdown",
      "metadata": {
        "id": "view-in-github",
        "colab_type": "text"
      },
      "source": [
        "<a href=\"https://colab.research.google.com/github/nikhilcoding0013/Harvard-AI-Summer-Program-2025/blob/main/Nikhil_Trivedi_Computer_Vision_Handwriting_Recognition_with_CNN.ipynb\" target=\"_parent\"><img src=\"https://colab.research.google.com/assets/colab-badge.svg\" alt=\"Open In Colab\"/></a>"
      ]
    },
    {
      "cell_type": "markdown",
      "metadata": {
        "id": "vLjWPialMbBQ"
      },
      "source": [
        "#Harvard AI Bootcamp - Handwriting Classification with Convolutional Neural Networks"
      ]
    },
    {
      "cell_type": "markdown",
      "source": [
        "## Make a copy of this notebook! Editing directly will not be saved."
      ],
      "metadata": {
        "id": "rdR8-cp-9aGh"
      }
    },
    {
      "cell_type": "markdown",
      "metadata": {
        "id": "OPVZ2bsPMr78"
      },
      "source": [
        "##Introduction"
      ]
    },
    {
      "cell_type": "markdown",
      "metadata": {
        "id": "FRk_IUlKM3jV"
      },
      "source": [
        "Welcome to this interactive project on Handwriting Classification using Convolutional Neural Networks (CNNs). In this tutorial, we'll explore the powerful capabilities of CNNs in the context of recognizing handwritten digits."
      ]
    },
    {
      "cell_type": "markdown",
      "source": [
        "##Step 1: Install Dependencies"
      ],
      "metadata": {
        "id": "dbGEII9C7h_v"
      }
    },
    {
      "cell_type": "markdown",
      "source": [
        "Let's start by installing the required dependencies. Google Colab comes pre-installed with many essential libraries, but we need to ensure that PyTorch is installed."
      ],
      "metadata": {
        "id": "KQajiW8y7lic"
      }
    },
    {
      "cell_type": "code",
      "source": [
        "# Install PyTorch\n",
        "!pip install torch torchvision"
      ],
      "metadata": {
        "id": "vTcZ_33z7sEH",
        "colab": {
          "base_uri": "https://localhost:8080/"
        },
        "outputId": "0b8b8f9c-8a62-481d-de2e-e43276a5b6b6"
      },
      "execution_count": 3,
      "outputs": [
        {
          "output_type": "stream",
          "name": "stdout",
          "text": [
            "\u001b[33mWARNING: Ignoring invalid distribution ~vidia-cudnn-cu12 (/usr/local/lib/python3.11/dist-packages)\u001b[0m\u001b[33m\n",
            "\u001b[0m\u001b[33mWARNING: Ignoring invalid distribution ~vidia-cudnn-cu12 (/usr/local/lib/python3.11/dist-packages)\u001b[0m\u001b[33m\n",
            "\u001b[0mRequirement already satisfied: torch in /usr/local/lib/python3.11/dist-packages (2.6.0+cu124)\n",
            "Requirement already satisfied: torchvision in /usr/local/lib/python3.11/dist-packages (0.21.0+cu124)\n",
            "Requirement already satisfied: filelock in /usr/local/lib/python3.11/dist-packages (from torch) (3.18.0)\n",
            "Requirement already satisfied: typing-extensions>=4.10.0 in /usr/local/lib/python3.11/dist-packages (from torch) (4.14.0)\n",
            "Requirement already satisfied: networkx in /usr/local/lib/python3.11/dist-packages (from torch) (3.5)\n",
            "Requirement already satisfied: jinja2 in /usr/local/lib/python3.11/dist-packages (from torch) (3.1.6)\n",
            "Requirement already satisfied: fsspec in /usr/local/lib/python3.11/dist-packages (from torch) (2025.3.2)\n",
            "Requirement already satisfied: nvidia-cuda-nvrtc-cu12==12.4.127 in /usr/local/lib/python3.11/dist-packages (from torch) (12.4.127)\n",
            "Requirement already satisfied: nvidia-cuda-runtime-cu12==12.4.127 in /usr/local/lib/python3.11/dist-packages (from torch) (12.4.127)\n",
            "Requirement already satisfied: nvidia-cuda-cupti-cu12==12.4.127 in /usr/local/lib/python3.11/dist-packages (from torch) (12.4.127)\n",
            "Collecting nvidia-cudnn-cu12==9.1.0.70 (from torch)\n",
            "  Using cached nvidia_cudnn_cu12-9.1.0.70-py3-none-manylinux2014_x86_64.whl.metadata (1.6 kB)\n",
            "Requirement already satisfied: nvidia-cublas-cu12==12.4.5.8 in /usr/local/lib/python3.11/dist-packages (from torch) (12.4.5.8)\n",
            "Requirement already satisfied: nvidia-cufft-cu12==11.2.1.3 in /usr/local/lib/python3.11/dist-packages (from torch) (11.2.1.3)\n",
            "Requirement already satisfied: nvidia-curand-cu12==10.3.5.147 in /usr/local/lib/python3.11/dist-packages (from torch) (10.3.5.147)\n",
            "Collecting nvidia-cusolver-cu12==11.6.1.9 (from torch)\n",
            "  Using cached nvidia_cusolver_cu12-11.6.1.9-py3-none-manylinux2014_x86_64.whl.metadata (1.6 kB)\n",
            "Requirement already satisfied: nvidia-cusparse-cu12==12.3.1.170 in /usr/local/lib/python3.11/dist-packages (from torch) (12.3.1.170)\n",
            "Requirement already satisfied: nvidia-cusparselt-cu12==0.6.2 in /usr/local/lib/python3.11/dist-packages (from torch) (0.6.2)\n",
            "Requirement already satisfied: nvidia-nccl-cu12==2.21.5 in /usr/local/lib/python3.11/dist-packages (from torch) (2.21.5)\n",
            "Requirement already satisfied: nvidia-nvtx-cu12==12.4.127 in /usr/local/lib/python3.11/dist-packages (from torch) (12.4.127)\n",
            "Requirement already satisfied: nvidia-nvjitlink-cu12==12.4.127 in /usr/local/lib/python3.11/dist-packages (from torch) (12.4.127)\n",
            "Requirement already satisfied: triton==3.2.0 in /usr/local/lib/python3.11/dist-packages (from torch) (3.2.0)\n",
            "Requirement already satisfied: sympy==1.13.1 in /usr/local/lib/python3.11/dist-packages (from torch) (1.13.1)\n",
            "Requirement already satisfied: mpmath<1.4,>=1.1.0 in /usr/local/lib/python3.11/dist-packages (from sympy==1.13.1->torch) (1.3.0)\n",
            "Requirement already satisfied: numpy in /usr/local/lib/python3.11/dist-packages (from torchvision) (2.0.2)\n",
            "Requirement already satisfied: pillow!=8.3.*,>=5.3.0 in /usr/local/lib/python3.11/dist-packages (from torchvision) (11.2.1)\n",
            "Requirement already satisfied: MarkupSafe>=2.0 in /usr/local/lib/python3.11/dist-packages (from jinja2->torch) (3.0.2)\n",
            "Using cached nvidia_cudnn_cu12-9.1.0.70-py3-none-manylinux2014_x86_64.whl (664.8 MB)\n",
            "Using cached nvidia_cusolver_cu12-11.6.1.9-py3-none-manylinux2014_x86_64.whl (127.9 MB)\n",
            "\u001b[33mWARNING: Ignoring invalid distribution ~vidia-cudnn-cu12 (/usr/local/lib/python3.11/dist-packages)\u001b[0m\u001b[33m\n",
            "\u001b[0mInstalling collected packages: nvidia-cudnn-cu12, nvidia-cusolver-cu12\n",
            "  Attempting uninstall: nvidia-cusolver-cu12\n",
            "\u001b[33m    WARNING: Ignoring invalid distribution ~vidia-cudnn-cu12 (/usr/local/lib/python3.11/dist-packages)\u001b[0m\u001b[33m\n",
            "\u001b[0m    Found existing installation: nvidia-cusolver-cu12 11.6.3.83\n",
            "    Uninstalling nvidia-cusolver-cu12-11.6.3.83:\n",
            "      Successfully uninstalled nvidia-cusolver-cu12-11.6.3.83\n",
            "\u001b[33mWARNING: Ignoring invalid distribution ~vidia-cudnn-cu12 (/usr/local/lib/python3.11/dist-packages)\u001b[0m\u001b[33m\n",
            "\u001b[0mSuccessfully installed nvidia-cudnn-cu12 nvidia-cusolver-cu12-11.6.1.9\n"
          ]
        }
      ]
    },
    {
      "cell_type": "markdown",
      "metadata": {
        "id": "qYlcmRW2NGm2"
      },
      "source": [
        "##Convolutional Neural Networks (CNNs)"
      ]
    },
    {
      "cell_type": "markdown",
      "metadata": {
        "id": "Ve58vdR-NLUJ"
      },
      "source": [
        "Convolutional Neural Networks have emerged as a cornerstone in computer vision, particularly excelling in tasks like image classification. Designed to simulate the visual processing of the human brain, CNNs have proven to be highly effective in discerning intricate patterns and features within images."
      ]
    },
    {
      "cell_type": "markdown",
      "metadata": {
        "id": "p55HjK9nNN7O"
      },
      "source": [
        "##Application: Handwriting Recognition"
      ]
    },
    {
      "cell_type": "markdown",
      "metadata": {
        "id": "2jgFQhj6NUpL"
      },
      "source": [
        "In this project, our focus is on a classic yet vital application—recognizing handwritten digits. We'll be working with the MNIST dataset, a benchmark dataset in the machine learning community. Despite its simplicity, MNIST remains a challenging problem due to the wide variability in individual handwriting styles."
      ]
    },
    {
      "cell_type": "markdown",
      "metadata": {
        "id": "9ink8r0fNW06"
      },
      "source": [
        "##Importance of CNNs in Image Classification"
      ]
    },
    {
      "cell_type": "markdown",
      "metadata": {
        "id": "FXdoC-coNZsS"
      },
      "source": [
        "Understanding CNNs is essential in numerous real-world applications, from digit recognition in postal services to automated form processing. By concentrating on the specific task of handwriting classification, we aim to showcase how CNNs can robustly handle diverse and intricate datasets, laying the foundation for broader applications in pattern recognition.\n",
        "\n",
        "Now, let's embark on the journey of setting up our project and constructing a CNN model to proficiently classify handwritten digits."
      ]
    },
    {
      "cell_type": "markdown",
      "metadata": {
        "id": "gZvQtavHNcXP"
      },
      "source": [
        "#Setup Section"
      ]
    },
    {
      "cell_type": "markdown",
      "metadata": {
        "id": "BGNcFDU1Nobo"
      },
      "source": [
        "In this tutorial, we will be using PyTorch to build a Convolutional Neural Network (CNN) for classifying handwritten digits from the MNIST dataset. Before we dive into the model building process, let's set up our environment by installing the required dependencies and importing the necessary libraries."
      ]
    },
    {
      "cell_type": "markdown",
      "metadata": {
        "id": "1Uq-CzswP2ce"
      },
      "source": [
        "##Why PyTorch?"
      ]
    },
    {
      "cell_type": "markdown",
      "metadata": {
        "id": "-WmpB0YcP5Z9"
      },
      "source": [
        "PyTorch is a popular open-source deep learning framework that provides a flexible and dynamic computational graph. It is widely used for building and training neural networks due to its ease of use, dynamic computation capabilities, and strong community support.\n"
      ]
    },
    {
      "cell_type": "markdown",
      "metadata": {
        "id": "VK_z58CSQFl0"
      },
      "source": [
        "##Step 2: Import Libraries"
      ]
    },
    {
      "cell_type": "code",
      "execution_count": 4,
      "metadata": {
        "id": "gZkMF6nEQLXk"
      },
      "outputs": [],
      "source": [
        "import torch\n",
        "import torch.nn as nn\n",
        "import torch.optim as optim\n",
        "import torchvision\n",
        "from torchvision import datasets, transforms\n",
        "import torch.nn.functional as F"
      ]
    },
    {
      "cell_type": "markdown",
      "metadata": {
        "id": "8C2ygRjhQQwa"
      },
      "source": [
        "*   **'torch'**: The core PyTorch library.\n",
        "*   **'torch.nn'**: PyTorch's module for defining neural network architectures.  \n",
        "*   **'torch.optim'**: PyTorch's module for optimization algorithms.\n",
        "*   **'torchvision'**: PyTorch's library for computer vision tasks.\n",
        "*   **['datasets'](https://docs.pytorch.org/vision/main/datasets.html)**: Provides pre-loaded datasets, including MNIST.\n",
        "*   **['transforms'](https://docs.pytorch.org/vision/main/transforms.html)**: Allows us to define image transformations, such as normalization and resizing.\n",
        "*   **'torch.nn.functional'**: module that provides a collection of functions that operate on tensors and are commonly used in neural network operations. These functions include various activation functions, loss functions, and other operations that are applied element-wise to tensors.\n"
      ]
    },
    {
      "cell_type": "markdown",
      "metadata": {
        "id": "dvmihCOQSrNU"
      },
      "source": [
        "##Step 3: Data Preprocessing with Transforms"
      ]
    },
    {
      "cell_type": "markdown",
      "metadata": {
        "id": "ANwk2jlSStrL"
      },
      "source": [
        "MNIST dataset contains grayscale images of handwritten digits. We will use transformations to preprocess the data."
      ]
    },
    {
      "cell_type": "code",
      "execution_count": 5,
      "metadata": {
        "id": "-3tX06TPSvd3"
      },
      "outputs": [],
      "source": [
        "# Define data transforms\n",
        "# TODO: convert images to PyTorch tensors to have a mean of 0.5 and a standard deviation of 0.5.\n",
        "transform = transforms.Compose([\n",
        "    transforms.ToTensor(),\n",
        "    transforms.Normalize((0.5,) , (0.5,))\n",
        "])"
      ]
    },
    {
      "cell_type": "markdown",
      "metadata": {
        "id": "gNl2X1auTCo_"
      },
      "source": [
        "\n",
        "\n",
        "*   **'ToTensor()'**: Converts images to PyTorch tensors.  \n",
        "*   **'Normalize()'**: Normalizes pixel values to have a mean of 0.5 and a standard deviation of 0.5.\n",
        "\n"
      ]
    },
    {
      "cell_type": "markdown",
      "metadata": {
        "id": "eZyj0kycTSbH"
      },
      "source": [
        "##Step 4: Download and Load MNIST Dataset"
      ]
    },
    {
      "cell_type": "markdown",
      "metadata": {
        "id": "NGsu6Q8mTWMU"
      },
      "source": [
        "Let's download the MNIST dataset and apply the defined transforms:"
      ]
    },
    {
      "cell_type": "code",
      "execution_count": 6,
      "metadata": {
        "id": "_dvj55zcTYzm",
        "colab": {
          "base_uri": "https://localhost:8080/"
        },
        "outputId": "178f5859-bd7b-48d0-ba39-7b1b40fd989f"
      },
      "outputs": [
        {
          "output_type": "stream",
          "name": "stderr",
          "text": [
            "100%|██████████| 9.91M/9.91M [00:00<00:00, 16.1MB/s]\n",
            "100%|██████████| 28.9k/28.9k [00:00<00:00, 500kB/s]\n",
            "100%|██████████| 1.65M/1.65M [00:00<00:00, 4.56MB/s]\n",
            "100%|██████████| 4.54k/4.54k [00:00<00:00, 9.32MB/s]\n"
          ]
        }
      ],
      "source": [
        "# Download and load training set\n",
        "train_dataset = datasets.MNIST(root='./data', train=True, transform=transform, download=True)\n",
        "\n",
        "# Download and load test set\n",
        "test_dataset = datasets.MNIST(root='./data', train=False, transform=transform, download=True)"
      ]
    },
    {
      "cell_type": "markdown",
      "metadata": {
        "id": "L_RwPAlOTlEP"
      },
      "source": [
        "\n",
        "\n",
        "*   **'datasets.MNIST'**: Loads the MNIST dataset. If you look under the 'data' folder on the right, you should be able to see MNIST loaded in.\n",
        "*   **'root'**: Specifies the directory to save the dataset.\n",
        "*   **'train=True'**: Loads the training set.\n",
        "\n"
      ]
    },
    {
      "cell_type": "markdown",
      "metadata": {
        "id": "9y8V1X2JUMWv"
      },
      "source": [
        "##Setup Section Conclusion\n"
      ]
    },
    {
      "cell_type": "markdown",
      "metadata": {
        "id": "fAm9u-stUPe7"
      },
      "source": [
        "With these setup steps, we have created an environment ready for building our CNN for handwritten digit classification using PyTorch. In the upcoming sections, we will delve into constructing the neural network architecture, training the model, and evaluating its performance.\n",
        "\n",
        "Let's proceed to the next section and start building our CNN!"
      ]
    },
    {
      "cell_type": "markdown",
      "metadata": {
        "id": "WRSvQvfPU0gW"
      },
      "source": [
        "#Building the CNN Classifier"
      ]
    },
    {
      "cell_type": "markdown",
      "metadata": {
        "id": "1VTLTtlCU3Am"
      },
      "source": [
        "Now that we have set up our environment and loaded the MNIST dataset, let's move on to building the Convolutional Neural Network (CNN) for classifying handwritten digits."
      ]
    },
    {
      "cell_type": "markdown",
      "metadata": {
        "id": "zpP0m3liUuW-"
      },
      "source": [
        "##Step 5: Define the CNN Architecture"
      ]
    },
    {
      "cell_type": "markdown",
      "metadata": {
        "id": "zMwKloG4U56P"
      },
      "source": [
        "We will create a simple CNN architecture for this task. In this example, we'll use two convolutional layers followed by max-pooling, and then two fully connected (linear) layers."
      ]
    },
    {
      "cell_type": "code",
      "execution_count": 7,
      "metadata": {
        "id": "ZgXCmqGGU8Qb"
      },
      "outputs": [],
      "source": [
        "class CNNClassifier(nn.Module):\n",
        "    def __init__(self):\n",
        "        super(CNNClassifier, self).__init__()\n",
        "        self.conv1 = nn.Conv2d(1, 32, kernel_size=3, padding=1)\n",
        "        # TODO: similarly create another convolutional layer\n",
        "        self.conv2 = nn.Conv2d(32, 64, kernel_size=3, padding=1)\n",
        "        self.pool = nn.MaxPool2d(kernel_size=2, stride=2)\n",
        "        self.fc1 = nn.Linear(64 * 7 * 7, 128)\n",
        "        # TODO: similarly create another fully connected layer\n",
        "        self.fc2 = nn.Linear(128, 10)\n",
        "\n",
        "    def forward(self, x):\n",
        "        x = self.pool(F.relu(self.conv1(x)))\n",
        "        x = self.pool(F.relu(self.conv2(x)))\n",
        "        x = x.view(-1, 64 * 7 * 7) #reshape x\n",
        "        x = F.relu(self.fc1(x))\n",
        "        x = self.fc2(x)\n",
        "        return x\n"
      ]
    },
    {
      "cell_type": "markdown",
      "metadata": {
        "id": "PBKIWBKKU-2V"
      },
      "source": [
        "This architecture consists of two convolutional layers, each followed by max-pooling, and two fully connected layers. The forward method defines the forward pass of the network."
      ]
    },
    {
      "cell_type": "markdown",
      "metadata": {
        "id": "bB8rOLqzVCj1"
      },
      "source": [
        "##Step 6: Instantiate the Model and Define Loss Function & Optimizer"
      ]
    },
    {
      "cell_type": "markdown",
      "metadata": {
        "id": "xdJmEpeRVFvz"
      },
      "source": [
        "Now, let's instantiate the CNN model and define the loss function and optimizer."
      ]
    },
    {
      "cell_type": "code",
      "execution_count": 8,
      "metadata": {
        "id": "lkiZCQXtVJb5"
      },
      "outputs": [],
      "source": [
        "# Instantiate the model\n",
        "model = CNNClassifier()\n",
        "\n",
        "# TODO: Define an Adam optimizer and specify the learning rate as 0.001\n",
        "criterion = nn.CrossEntropyLoss()\n",
        "optimizer = optim.Adam(model.parameters(), lr=0.001)\n"
      ]
    },
    {
      "cell_type": "markdown",
      "metadata": {
        "id": "hGbud00lVLsr"
      },
      "source": [
        "\n",
        "\n",
        "*   **'nn.CrossEntropyLoss()'**: This is a commonly used loss function for classification problems.\n",
        "*   **'optim.Adam()'**: We use the Adam optimizer for updating the model parameters during training.\n",
        "\n"
      ]
    },
    {
      "cell_type": "markdown",
      "metadata": {
        "id": "mkS62Ge0VYOl"
      },
      "source": [
        "##Step 7: Training the Model"
      ]
    },
    {
      "cell_type": "markdown",
      "metadata": {
        "id": "f_0h7CbhVaSr"
      },
      "source": [
        "Let's train the model using the training dataset we loaded earlier."
      ]
    },
    {
      "cell_type": "code",
      "execution_count": 9,
      "metadata": {
        "id": "1kgUFvTPVc5V",
        "colab": {
          "base_uri": "https://localhost:8080/"
        },
        "outputId": "7bf61650-3296-4a42-d49d-8cb3cceedb99"
      },
      "outputs": [
        {
          "output_type": "stream",
          "name": "stdout",
          "text": [
            "Epoch [1/1], Loss: 0.1542, Accuracy: 95.25%\n"
          ]
        }
      ],
      "source": [
        "# Defne batch size for tarining\n",
        "batch_size = 64\n",
        "\n",
        "# Create data loaders\n",
        "train_loader = torch.utils.data.DataLoader(dataset=train_dataset, batch_size=batch_size, shuffle=True)\n",
        "test_loader = torch.utils.data.DataLoader(dataset=test_dataset, batch_size=batch_size, shuffle=False)\n",
        "\n",
        "# Set the number of epochs\n",
        "num_epochs = 1 #this is too low, but given that we are teaching this in real time we will use 1 epoch for speed\n",
        "\n",
        "# Training loop\n",
        "for epoch in range(num_epochs):\n",
        "    # TODO: set the model to training mode\n",
        "    model.train()\n",
        "\n",
        "    running_loss = 0.0\n",
        "    correct_train, total_train = 0, 0\n",
        "\n",
        "    for images, labels in train_loader:\n",
        "        # TODO: Zero the gradients\n",
        "        # TODO: Forward pass\n",
        "        # TODO: Calculate the loss\n",
        "        # TODO: Backward pass\n",
        "        # TODO: Update weights\n",
        "        optimizer.zero_grad()\n",
        "        outputs = model(images)\n",
        "        loss = criterion(outputs, labels)\n",
        "        loss.backward()\n",
        "        optimizer.step()\n",
        "\n",
        "        running_loss += loss.item()\n",
        "\n",
        "        # Calculate training accuracy\n",
        "        _, predicted = torch.max(outputs.data, 1)\n",
        "        total_train += labels.size(0)\n",
        "        correct_train += (predicted == labels).sum().item()\n",
        "\n",
        "    epoch_loss = running_loss / len(train_loader)\n",
        "    accuracy_train = correct_train / total_train\n",
        "\n",
        "    print(f'Epoch [{epoch + 1}/{num_epochs}], Loss: {epoch_loss:.4f}, Accuracy: {accuracy_train * 100:.2f}%')\n"
      ]
    },
    {
      "cell_type": "markdown",
      "metadata": {
        "id": "iF8XYHm9WBRO"
      },
      "source": [
        "##Step 8: Evaluate the Model"
      ]
    },
    {
      "cell_type": "markdown",
      "metadata": {
        "id": "nLttrIBQWDdB"
      },
      "source": [
        "After training, let's evaluate the model on the test set to assess it's performance. One popular visualzation of a model's performance is a confusion matrix. To do this, we'll need to use the **'sklearn.metrics'** module, which provides convenient functions for calculating and displaying various metrics.\n",
        "\n",
        "First make sure to install scikit-learn if you haven't already:"
      ]
    },
    {
      "cell_type": "code",
      "execution_count": 10,
      "metadata": {
        "id": "MYvDcNtbbO-2",
        "colab": {
          "base_uri": "https://localhost:8080/"
        },
        "outputId": "2ac2c3b3-1e6a-4e8b-da53-fea021a0db78"
      },
      "outputs": [
        {
          "output_type": "stream",
          "name": "stdout",
          "text": [
            "\u001b[33mWARNING: Ignoring invalid distribution ~vidia-cudnn-cu12 (/usr/local/lib/python3.11/dist-packages)\u001b[0m\u001b[33m\n",
            "\u001b[0m\u001b[33mWARNING: Ignoring invalid distribution ~vidia-cudnn-cu12 (/usr/local/lib/python3.11/dist-packages)\u001b[0m\u001b[33m\n",
            "\u001b[0mRequirement already satisfied: scikit-learn in /usr/local/lib/python3.11/dist-packages (1.6.1)\n",
            "Requirement already satisfied: numpy>=1.19.5 in /usr/local/lib/python3.11/dist-packages (from scikit-learn) (2.0.2)\n",
            "Requirement already satisfied: scipy>=1.6.0 in /usr/local/lib/python3.11/dist-packages (from scikit-learn) (1.15.3)\n",
            "Requirement already satisfied: joblib>=1.2.0 in /usr/local/lib/python3.11/dist-packages (from scikit-learn) (1.5.1)\n",
            "Requirement already satisfied: threadpoolctl>=3.1.0 in /usr/local/lib/python3.11/dist-packages (from scikit-learn) (3.6.0)\n",
            "\u001b[33mWARNING: Ignoring invalid distribution ~vidia-cudnn-cu12 (/usr/local/lib/python3.11/dist-packages)\u001b[0m\u001b[33m\n",
            "\u001b[0m"
          ]
        }
      ],
      "source": [
        "!pip install scikit-learn"
      ]
    },
    {
      "cell_type": "markdown",
      "metadata": {
        "id": "N-U-x2YabQ9N"
      },
      "source": [
        "Now let's modify the import statements to include the calculation and printing of the confusion matrix and classificaiton report:"
      ]
    },
    {
      "cell_type": "code",
      "execution_count": 12,
      "metadata": {
        "id": "jLlSld5sbUuh"
      },
      "outputs": [],
      "source": [
        "from sklearn.metrics import confusion_matrix, classification_report"
      ]
    },
    {
      "cell_type": "code",
      "execution_count": 13,
      "metadata": {
        "id": "6WBzhab7WHct",
        "colab": {
          "base_uri": "https://localhost:8080/"
        },
        "outputId": "36eb993b-70b9-4d12-f112-d34b0a5585ed"
      },
      "outputs": [
        {
          "output_type": "stream",
          "name": "stdout",
          "text": [
            "Test Accuracy: 98.51%\n",
            "\n",
            "Confusion Matrix:\n",
            "[[ 976    0    0    1    0    0    0    0    3    0]\n",
            " [   0 1130    2    1    0    2    0    0    0    0]\n",
            " [   1    1 1019    0    1    0    0    7    3    0]\n",
            " [   0    0    3  990    0   12    0    2    2    1]\n",
            " [   0    0    0    0  960    0    1    0    3   18]\n",
            " [   2    0    0    0    0  885    2    0    2    1]\n",
            " [   6    2    1    0    5    6  934    0    4    0]\n",
            " [   1    2    9    3    0    0    0 1007    2    4]\n",
            " [   6    0    3    1    2    2    0    4  954    2]\n",
            " [   2    0    0    0    1    3    0    4    3  996]]\n",
            "\\Classification Report:\n",
            "              precision    recall  f1-score   support\n",
            "\n",
            "           0       0.98      1.00      0.99       980\n",
            "           1       1.00      1.00      1.00      1135\n",
            "           2       0.98      0.99      0.99      1032\n",
            "           3       0.99      0.98      0.99      1010\n",
            "           4       0.99      0.98      0.98       982\n",
            "           5       0.97      0.99      0.98       892\n",
            "           6       1.00      0.97      0.99       958\n",
            "           7       0.98      0.98      0.98      1028\n",
            "           8       0.98      0.98      0.98       974\n",
            "           9       0.97      0.99      0.98      1009\n",
            "\n",
            "    accuracy                           0.99     10000\n",
            "   macro avg       0.98      0.98      0.98     10000\n",
            "weighted avg       0.99      0.99      0.99     10000\n",
            "\n"
          ]
        }
      ],
      "source": [
        "# Evaluation on the test set\n",
        "model.eval()  # Set the model to evaluation mode\n",
        "correct_test, total_test = 0, 0\n",
        "all_predicted, all_labels = [], []\n",
        "\n",
        "with torch.no_grad():\n",
        "    for images, labels in test_loader:\n",
        "        outputs = model(images)\n",
        "        _, predicted = torch.max(outputs.data, 1) #we look for the label with the highest assigned probability for each image\n",
        "        total_test += labels.size(0)\n",
        "        correct_test += (predicted == labels).sum().item()\n",
        "\n",
        "        # Collect predictions and true labels for later analysis\n",
        "        all_predicted.extend(predicted.cpu().numpy())\n",
        "        all_labels.extend(labels.cpu().numpy())\n",
        "\n",
        "accuracy_test = correct_test / total_test\n",
        "\n",
        "# Print test accuracy\n",
        "print(f'Test Accuracy: {accuracy_test * 100:.2f}%')\n",
        "\n",
        "# TODO: Calculate and print confusion matrix\n",
        "conf_matrix = confusion_matrix(all_labels, all_predicted)\n",
        "\n",
        "print('\\nConfusion Matrix:')\n",
        "print(conf_matrix)\n",
        "\n",
        "# Calculate and print classification report\n",
        "class_report = classification_report(all_labels, all_predicted)\n",
        "print('\\Classification Report:')\n",
        "print(class_report)"
      ]
    },
    {
      "cell_type": "markdown",
      "source": [
        "**sklearn.metrics.confusion_matrix**: We can use this method to generate a confusion matrix from our data by passing in the true labels (all_labels) and the predicted labels (all_predicted)"
      ],
      "metadata": {
        "id": "oTQieAN-xlmG"
      }
    },
    {
      "cell_type": "markdown",
      "metadata": {
        "id": "_6JPsSYaWJHe"
      },
      "source": [
        "This code snippet sets the model to evaluation mode, runs the test data through the trained model, and calculates the accuracy. This code snippet sets the model to evaluation mode, runs the test data through the trained model, and calculates the accuracy. The Confusion Matrix compares between what the true labels are, and what our guesses are – 100% accuracy would mean that this comes out with only values on the diagonal. The classification report gives multiple metrics, including precision (what percent of guesses for a specific category are correct), recall (what percent of a certain class are labeled correctly), abd f1 score (a combination of precision and recall)."
      ]
    },
    {
      "cell_type": "markdown",
      "metadata": {
        "id": "4xxlesHAWvXx"
      },
      "source": [
        "##Step 9: Visualize the Results of our Model"
      ]
    },
    {
      "cell_type": "code",
      "execution_count": 14,
      "metadata": {
        "id": "4ch-vsRlY_3p",
        "colab": {
          "base_uri": "https://localhost:8080/",
          "height": 165
        },
        "outputId": "3205508c-3118-4964-9369-c351acb50d8f"
      },
      "outputs": [
        {
          "output_type": "display_data",
          "data": {
            "text/plain": [
              "<Figure size 640x480 with 5 Axes>"
            ],
            "image/png": "[encoded data removed]"
          },
          "metadata": {}
        }
      ],
      "source": [
        "import matplotlib.pyplot as plt\n",
        "import numpy as np\n",
        "\n",
        "# Function to visualize test images and predictions\n",
        "def visualize_results(model, test_loader, num_images=5):\n",
        "    model.eval()\n",
        "    with torch.no_grad():\n",
        "        for i, (images, labels) in enumerate(test_loader):\n",
        "            if i >= num_images:\n",
        "                break\n",
        "\n",
        "            outputs = model(images)\n",
        "            _, predicted = torch.max(outputs, 1)\n",
        "\n",
        "            # Convert the image tensor to a NumPy array\n",
        "            image = images[0][0].squeeze().cpu().numpy()\n",
        "\n",
        "            # Visualize the test images and their predictions\n",
        "            plt.subplot(1, num_images, i + 1)\n",
        "            plt.imshow(image, cmap='gray')  # Use the NumPy array for imshow\n",
        "            plt.title(f'Predicted: {predicted[0]}\\nActual: {labels[0]}')\n",
        "            plt.axis('off')\n",
        "\n",
        "    plt.show()\n",
        "\n",
        "# Visualize test images and predictions\n",
        "visualize_results(model, test_loader)"
      ]
    },
    {
      "cell_type": "markdown",
      "metadata": {
        "id": "yqy-bLAPZBva"
      },
      "source": [
        "*   **'visualize_results'**: This function takes the trained model and a test data loader as input and visualizes a specified number of test images along with their predicted and actual labels."
      ]
    },
    {
      "cell_type": "markdown",
      "metadata": {
        "id": "bkT3AlTweA5F"
      },
      "source": [
        "#Let's Upgrade Our CNN!"
      ]
    },
    {
      "cell_type": "markdown",
      "metadata": {
        "id": "wKE_C_k5eHS1"
      },
      "source": [
        "There are several next steps we can take to bring our current CNN to the next level. Two of the most common next steps are updating the CNN architecture and data augmentation. We will be implementing both in the next few steps."
      ]
    },
    {
      "cell_type": "markdown",
      "metadata": {
        "id": "ef9i99_DeWYK"
      },
      "source": [
        "##Step 10: Update CNN Architecture"
      ]
    },
    {
      "cell_type": "code",
      "execution_count": 15,
      "metadata": {
        "id": "4o4Zbp3XecOO"
      },
      "outputs": [],
      "source": [
        "# Define the advanced CNN architecture\n",
        "class AdvancedCNNClassifier(nn.Module):\n",
        "    def __init__(self):\n",
        "        super(AdvancedCNNClassifier, self).__init__()\n",
        "        self.conv1 = nn.Conv2d(1, 32, kernel_size=3, padding=1)\n",
        "        self.conv2 = nn.Conv2d(32, 64, kernel_size=3, padding=1)\n",
        "        self.conv3 = nn.Conv2d(64, 128, kernel_size=3, padding=1)\n",
        "        self.pool = nn.MaxPool2d(kernel_size=2, stride=2)\n",
        "\n",
        "        # Calculate the size dynamically based on the input size to the linear layer\n",
        "        dummy_input = torch.randn(1, 1, 28, 28)\n",
        "        self.calculate_conv_output_size(dummy_input)\n",
        "\n",
        "        self.fc1 = nn.Linear(self.conv_output_size, 256)\n",
        "        self.fc2 = nn.Linear(256, 10)\n",
        "\n",
        "    def calculate_conv_output_size(self, x):\n",
        "        x = self.pool(F.relu(self.conv1(x)))\n",
        "        x = self.pool(F.relu(self.conv2(x)))\n",
        "        x = self.pool(F.relu(self.conv3(x)))\n",
        "        x = x.view(x.size(0), -1)\n",
        "        self.conv_output_size = x.size(1)\n",
        "\n",
        "    def forward(self, x):\n",
        "        x = self.pool(F.relu(self.conv1(x)))\n",
        "        x = self.pool(F.relu(self.conv2(x)))\n",
        "        x = self.pool(F.relu(self.conv3(x)))\n",
        "\n",
        "        x = x.view(x.size(0), -1)\n",
        "        x = F.relu(self.fc1(x))\n",
        "        x = self.fc2(x)\n",
        "        return x\n",
        "\n"
      ]
    },
    {
      "cell_type": "markdown",
      "metadata": {
        "id": "YIJmeK-cef5a"
      },
      "source": [
        "We've defined a new CNN architcture named **'AdvancedCNNClassifier'** with three convolutional layers('conv1', 'conv2', 'conv3'), max-pooling layers('pool'), and wo fully connected layers ('fc1', 'fc2').\n",
        "\n",
        "\n",
        "The architecture is more complex than the previous CNN, with additional convolutional and fully connected layers.\n",
        "\n",
        "\n",
        "In this step we've also introduced a method 'calculate_conv_output_size' that takes. adummy input and calculates the size after the last pooling layer. This size is then used to dynamically set the input size of the first linear layer('fc1')."
      ]
    },
    {
      "cell_type": "markdown",
      "metadata": {
        "id": "afPDNpvihc66"
      },
      "source": [
        "To provide some general foundational reasoning for updates in CNN architecture:\n",
        "\n",
        "1. Increased Model Capacity: The original CNN architecture might not have enough capacity to capture intricate patterns in the data. By introducing more convolutional layers and parameters, the model becomes more expressive and can potentially learn more complex features.\n",
        "2. Hierarchical Feature Extraction: Deepening the architecture allows the network to perform hierarchical feature extraction. Each layer can learn and represent different levels of abstraction, enabling the model to understand more intricate structures in the input data.\n",
        "3. Representation Power: The deeper architecture provides the model with a higher capacity to represent both low-level and high-level features in the data. This can be particularly beneficial for image classification tasks where features are hierarchical."
      ]
    },
    {
      "cell_type": "markdown",
      "metadata": {
        "id": "XUgKYOOZe2z0"
      },
      "source": [
        "##Step 11: Data Augmentaiton\n"
      ]
    },
    {
      "cell_type": "code",
      "execution_count": 16,
      "metadata": {
        "id": "g9hguoOZe58k"
      },
      "outputs": [],
      "source": [
        "# Define data transforms for training with data augmentation\n",
        "transform_with_augmentation = transforms.Compose([\n",
        "    transforms.RandomRotation(10),\n",
        "    transforms.RandomResizedCrop(28, scale=(0.8, 1.0)),\n",
        "    transforms.RandomHorizontalFlip(),\n",
        "    transforms.ToTensor(),\n",
        "    transforms.Normalize((0.5,), (0.5,))\n",
        "])\n",
        "\n",
        "# Download and load the training set with data augmentation\n",
        "train_dataset_with_augmentation = datasets.MNIST(\n",
        "    root='./data',\n",
        "    train=True,\n",
        "    transform=transform_with_augmentation,\n",
        "    download=True\n",
        ")\n",
        "\n",
        "# Create a data loader for the augmented training set\n",
        "train_loader_with_augmentation = torch.utils.data.DataLoader(\n",
        "    dataset=train_dataset_with_augmentation,\n",
        "    batch_size=64,\n",
        "    shuffle=True\n",
        ")\n"
      ]
    },
    {
      "cell_type": "markdown",
      "metadata": {
        "id": "3PjTyKUdfJNL"
      },
      "source": [
        "We've defined a new set of data transformation('transform_with_augmentation') for training with data augmentation.\n",
        "\n",
        "The transformations include random rotation, random resized crop, and random horizontal flip, augmenting the training images.\n",
        "\n",
        "We've created a new training dataste('train_dataset_with_augmentation') with the specified augmentations.\n",
        "\n",
        "Finally, a new data loader ('train_loader_with_augmentation') is created for the augmented training dataset."
      ]
    },
    {
      "cell_type": "markdown",
      "metadata": {
        "id": "nQ8VPCc_iCWL"
      },
      "source": [
        "To provide some foundational reasoning for why one might want to perform data augmentation:\n",
        "1. Increased Robustness: Data augmentation introduces diversity into the training set by applying random transformations to the images. This helps the model become more robust and less sensitive to variations in the input data.\n",
        "2. Improved Generalization: Augmenting the training data with variations like rotation, scaling, and flipping exposes the model to a broader range of scenarios. This aids in improving the model's ability to generalize well to unseen data.\n",
        "3. Mitigation of Overfitting: Data augmentation acts as a form of regularization by artificially expanding the dataset. This can be particularly helpful in mitigating overfitting, where the model memorizes the training set instead of learning generalizable patterns.\n",
        "4. Realistic Input Variations: By simulating realistic variations that the model might encounter in real-world scenarios, data augmentation helps the model become more adaptive and capable of handling diverse inputs.\n",
        "5. Reudced Dependency on Large Datasets: In scenarios where collecting a large labeled dataset is challenging, data augmentation provides a way to artificially increase the effective size of the training set. This is especially useful for small to moderately sized datasets.\n"
      ]
    },
    {
      "cell_type": "markdown",
      "metadata": {
        "id": "SQLZ69CUfz_c"
      },
      "source": [
        "## Step 12: Run Training Loop Again"
      ]
    },
    {
      "cell_type": "code",
      "execution_count": 17,
      "metadata": {
        "id": "jqY21Ppff3ia",
        "colab": {
          "base_uri": "https://localhost:8080/"
        },
        "outputId": "6576d320-903c-4120-d312-5d7c7cd09ed4"
      },
      "outputs": [
        {
          "output_type": "stream",
          "name": "stdout",
          "text": [
            "Epoch [1/5], Loss: 0.3551, Accuracy: 88.34\n",
            "Epoch [2/5], Loss: 0.1184, Accuracy: 96.32\n",
            "Epoch [3/5], Loss: 0.0895, Accuracy: 97.20\n",
            "Epoch [4/5], Loss: 0.0775, Accuracy: 97.51\n",
            "Epoch [5/5], Loss: 0.0700, Accuracy: 97.80\n"
          ]
        }
      ],
      "source": [
        "# Instantiate the advanced CNN model\n",
        "advanced_model = AdvancedCNNClassifier()\n",
        "\n",
        "# Define loss function and optimizer\n",
        "criterion = nn.CrossEntropyLoss()\n",
        "optimizer = optim.Adam(advanced_model.parameters(), lr=0.001)\n",
        "\n",
        "# Training loop with data augmentation\n",
        "num_epochs = 5\n",
        "\n",
        "for epoch in range(num_epochs):\n",
        "    advanced_model.train()\n",
        "    running_loss = 0.0\n",
        "    correct_train, total_train = 0, 0\n",
        "\n",
        "    for images, labels in train_loader_with_augmentation:\n",
        "        optimizer.zero_grad()\n",
        "        outputs = advanced_model(images)\n",
        "        loss = criterion(outputs, labels)\n",
        "        loss.backward()\n",
        "        optimizer.step()\n",
        "\n",
        "        running_loss += loss.item()\n",
        "\n",
        "        _, predicted = torch.max(outputs.data, 1)\n",
        "        total_train += labels.size(0)\n",
        "        correct_train += (predicted == labels).sum().item()\n",
        "\n",
        "    epoch_loss = running_loss / len(train_loader_with_augmentation)\n",
        "    accuracy_train = correct_train / total_train\n",
        "\n",
        "    print(f'Epoch [{epoch + 1}/{num_epochs}], Loss: {epoch_loss:.4f}, Accuracy: {accuracy_train * 100:.2f}')\n"
      ]
    },
    {
      "cell_type": "markdown",
      "metadata": {
        "id": "FtlSpaZwgz3a"
      },
      "source": [
        "We've instantiated the advanced CNN model ('AdvancedCNNClassifier'). The loss function is defined as cross-entropy, and the optimizer is set to Adam witha learning rate of 0.001\n",
        "\n",
        "The training loop is similar to the augmented training dataset ('train_loader_with_augmentation). The loop then prints the training loss and accuracy for each epoch."
      ]
    },
    {
      "cell_type": "markdown",
      "metadata": {
        "id": "5OLz6SS0ioIw"
      },
      "source": [
        "Incorporating both an advanced architecture and data augmentation aligns with the goal of building a more powerful and robust model, capable of accurately classifying handwritten digits while being less sensitive to variations and noise in the input data."
      ]
    },
    {
      "cell_type": "markdown",
      "metadata": {
        "id": "ITQrcByYWPpM"
      },
      "source": [
        "#Conclusion"
      ]
    },
    {
      "cell_type": "markdown",
      "metadata": {
        "id": "wMoZ5lxoWVRj"
      },
      "source": [
        "Congratulations! You've successfully built and trained a Convolutional Neural Network for classifying handwritten digits using PyTorch. In this tutorial, we covered setting up the environment, defining the CNN architecture, training the model, and evaluating its performance.\n",
        "\n",
        "Feel free to experiment with different architectures, hyperparameters, and techniques to further improve the model's accuracy."
      ]
    },
    {
      "cell_type": "markdown",
      "metadata": {
        "id": "3vekhrxyDO3T"
      },
      "source": [
        "#Optional: Visualizing CNN Feature Maps"
      ]
    },
    {
      "cell_type": "markdown",
      "source": [
        "We can visualize CNN feature maps because each convolutional layer in the network produces a structured output: a 2D grid of numbers (like a grayscale image) that represents how strongly each filter responds to different regions of the input. These outputs, called feature maps or activation maps, are just tensors that we can extract during a forward pass. Since each map has a clear spatial layout and intensity values, we can easily convert them into images, letting us peek inside the network and see what patterns it detects as it processes the input images.\n",
        "\n",
        "Before we can visualize what our CNN is \"seeing,\" we need to tap into the inside of the network. We do this by setting up a hook — a tool that captures the output of a specific layer during a forward pass. Here, we'll hook into the first convolutional layer to see how it responds to input images."
      ],
      "metadata": {
        "id": "cSpWxDaRKW4M"
      }
    },
    {
      "cell_type": "code",
      "source": [
        "# Create a dictionary to hold the activation\n",
        "activation = {}\n",
        "\n",
        "def get_activation(name):\n",
        "    def hook(model, input, output):\n",
        "        activation[name] = output.detach()\n",
        "    return hook\n",
        "\n",
        "# Register the hook\n",
        "model.conv1.register_forward_hook(get_activation('conv1'))"
      ],
      "metadata": {
        "id": "JVvmSX2NHTVZ",
        "colab": {
          "base_uri": "https://localhost:8080/"
        },
        "outputId": "ddbd4b1b-6999-4375-8709-2a3955e9a04c"
      },
      "execution_count": 19,
      "outputs": [
        {
          "output_type": "execute_result",
          "data": {
            "text/plain": [
              "<torch.utils.hooks.RemovableHandle at 0x7a256f64bd10>"
            ]
          },
          "metadata": {},
          "execution_count": 19
        }
      ]
    },
    {
      "cell_type": "markdown",
      "source": [
        "Now that we can capture the activations, let's write a function to display them alongside the original image. Each feature map shows how one filter in the convolutional layer responds to different regions of the image."
      ],
      "metadata": {
        "id": "DcI8M8dnMhAH"
      }
    },
    {
      "cell_type": "code",
      "source": [
        "def visualize_feature_maps(input_tensor, activation, layer_name, num_maps=6):\n",
        "    feature_maps = activation[layer_name].squeeze(0)  # shape: [C, H, W]\n",
        "    num_maps = min(num_maps, feature_maps.shape[0])\n",
        "\n",
        "    # Convert input image to CPU and squeeze batch + channel dims\n",
        "    input_image = input_tensor.squeeze(0).squeeze(0).cpu()\n",
        "\n",
        "    fig, axes = plt.subplots(1, num_maps + 1, figsize=((num_maps + 1) * 2, 2))\n",
        "\n",
        "    # Show original input image\n",
        "    axes[0].imshow(input_image, cmap='gray')\n",
        "    axes[0].set_title(\"Input Image\", fontsize=8)\n",
        "    axes[0].axis('off')\n",
        "\n",
        "    # Show activation maps\n",
        "    for i in range(num_maps):\n",
        "        map_i = feature_maps[i].cpu()\n",
        "        # Normalize for better visual contrast\n",
        "        map_i = (map_i - map_i.min()) / (map_i.max() - map_i.min() + 1e-5)\n",
        "        axes[i + 1].imshow(map_i, cmap='gray')\n",
        "        axes[i + 1].set_title(f\"Map {i}\", fontsize=8)\n",
        "        axes[i + 1].axis('off')\n",
        "\n",
        "    fig.suptitle(f\"Feature Maps from {layer_name}\", fontsize=12)\n",
        "    plt.tight_layout()\n",
        "    plt.show()"
      ],
      "metadata": {
        "id": "3bFCJQI8Hl8y"
      },
      "execution_count": 20,
      "outputs": []
    },
    {
      "cell_type": "markdown",
      "source": [
        "Now we'll take the first few images from the test dataset, run it through the model, and visualize what the first layer of the CNN detects. White areas mean \"this filter sees something important here.\""
      ],
      "metadata": {
        "id": "W-3pDNhEMhy6"
      }
    },
    {
      "cell_type": "code",
      "source": [
        "num_inputs = 3\n",
        "num_maps = 6\n",
        "\n",
        "for i in range(num_inputs):\n",
        "    # Load one image from test set\n",
        "    image, label = test_dataset[i]  # Choose index 0 or any digit\n",
        "    input_tensor = image.unsqueeze(0)  # Add batch dimension: [1, 1, 28, 28]\n",
        "\n",
        "    # Ensure model is in eval mode\n",
        "    model.eval()\n",
        "\n",
        "    # Forward pass\n",
        "    with torch.no_grad():\n",
        "        _ = model(input_tensor)\n",
        "\n",
        "    # Visualize\n",
        "    visualize_feature_maps(input_tensor, activation, 'conv1', num_maps)"
      ],
      "metadata": {
        "id": "7LxE8huRL3uO",
        "colab": {
          "base_uri": "https://localhost:8080/",
          "height": 617
        },
        "outputId": "fc3bb560-4292-4848-b195-490fb1027196"
      },
      "execution_count": 21,
      "outputs": [
        {
          "output_type": "display_data",
          "data": {
            "text/plain": [
              "<Figure size 1400x200 with 7 Axes>"
            ],
            "image/png": "[encoded data removed]"
          },
          "metadata": {}
        },
        {
          "output_type": "display_data",
          "data": {
            "text/plain": [
              "<Figure size 1400x200 with 7 Axes>"
            ],
            "image/png": "[encoded data removed]"
          },
          "metadata": {}
        },
        {
          "output_type": "display_data",
          "data": {
            "text/plain": [
              "<Figure size 1400x200 with 7 Axes>"
            ],
            "image/png": "[encoded data removed]"
          },
          "metadata": {}
        }
      ]
    },
    {
      "cell_type": "markdown",
      "source": [
        "Can you try to interpret what each feature map is looking for? How might the model then use the information it finds? Provide specific, concrete examples."
      ],
      "metadata": {
        "id": "IGB6WTg6OY_U"
      }
    }
  ],
  "metadata": {
    "colab": {
      "provenance": [],
      "gpuType": "T4",
      "include_colab_link": true
    },
    "kernelspec": {
      "display_name": "Python 3",
      "name": "python3"
    },
    "language_info": {
      "name": "python"
    },
    "accelerator": "GPU"
  },
  "nbformat": 4,
  "nbformat_minor": 0
}
