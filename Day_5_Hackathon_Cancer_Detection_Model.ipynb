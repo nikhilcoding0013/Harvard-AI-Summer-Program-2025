{
  "nbformat": 4,
  "nbformat_minor": 0,
  "metadata": {
    "colab": {
      "provenance": [],
      "gpuType": "T4",
      "include_colab_link": true
    },
    "kernelspec": {
      "name": "python3",
      "display_name": "Python 3"
    },
    "language_info": {
      "name": "python"
    },
    "accelerator": "GPU"
  },
  "cells": [
    {
      "cell_type": "markdown",
      "metadata": {
        "id": "view-in-github",
        "colab_type": "text"
      },
      "source": [
        "<a href=\"https://colab.research.google.com/github/nikhilcoding0013/Harvard-AI-Summer-Program-2025/blob/main/Day_5_Hackathon_Cancer_Detection_Model.ipynb\" target=\"_parent\"><img src=\"https://colab.research.google.com/assets/colab-badge.svg\" alt=\"Open In Colab\"/></a>"
      ]
    },
    {
      "cell_type": "markdown",
      "source": [
        "# Classifying Benign vs. Malignant Breast Tumors Using Deep Learning\n",
        "\n",
        "**Dataset**: [Multi Cancer Dataset](https://www.kaggle.com/datasets/obulisainaren/multi-cancer)\n",
        "\n",
        "\n",
        "\n",
        "This dataset contains images of various cancer types, compiled for research and analysis purposes. It includes 8 main cancer classes and 26 subclasses, providing a rich resource for medical image classification and machine learning applications.\n",
        "\n",
        "*Obuli Sai Naren. (2022). Multi Cancer Dataset. Kaggle. https://doi.org/10.34740/KAGGLE/DSV/3415848*\n",
        "\n",
        "\n",
        "| Cancer    | Classes | Images |\n",
        "| -------- | ------- | ------- |\n",
        "| Acute Lymphoblastic Leukemia\t  | 4    | 20,000 |\n",
        "| Brain Cancer\t | 3     | 15,000 |\n",
        "| Breast Cancer\t    | 2    | 10,000 |\n",
        "| Cervical Cancer\t    | 5    | 25,000 |\n",
        "| Kidney Cancer\t    | 2    | 10,000 |\n",
        "| Lung and Colon Cancer\t    | 5    | 25,000 |\n",
        "| Lymphoma\t    | 3    | 15,000 |\n",
        "| Oral Cancer\t    | 2    | 10,000 |\n",
        "\n",
        "\n",
        "\n",
        "\n",
        "### Project Instructions\n",
        "*   This project focuses on approaching building a classifier for cancer detection, a key problem in AI.\n",
        "* We implement and compare two models on the Multi Cancer Dataset: a simple CNN and a ResNet model.\n",
        "* There are many ways you can extend this workbook to answer your own research questions. Analyze the choice of hyperparameters, construct your own deep learing architecture, propose your own models and compare convergence rates... the world is your oyster!"
      ],
      "metadata": {
        "id": "K0OAeZeruAZN"
      }
    },
    {
      "cell_type": "markdown",
      "source": [
        "## Environment Setup"
      ],
      "metadata": {
        "id": "Et0qXgDt35AM"
      }
    },
    {
      "cell_type": "code",
      "source": [
        "!pip install kagglehub transformers timm -q\n",
        "\n",
        "import os\n",
        "import shutil\n",
        "import matplotlib.pyplot as plt\n",
        "import torch\n",
        "import torch.nn as nn\n",
        "import torch.optim as optim\n",
        "from torchvision import datasets, transforms\n",
        "from torch.utils.data import DataLoader\n",
        "from sklearn.metrics import confusion_matrix, ConfusionMatrixDisplay\n",
        "import numpy as np"
      ],
      "metadata": {
        "id": "c3x-b5xBqqQ-"
      },
      "execution_count": 1,
      "outputs": []
    },
    {
      "cell_type": "markdown",
      "source": [
        "## Dataset Exploration"
      ],
      "metadata": {
        "id": "RBAFVtBnvvPF"
      }
    },
    {
      "cell_type": "markdown",
      "source": [
        "Here, we directly download the Multi Cancer Dataset from Kaggle's library. The dataset is stored in `path`.\n",
        "\n",
        "If Google Colab is not working well for you, you can alternatively directly download the dataset to your local drive and define the path manually."
      ],
      "metadata": {
        "id": "xSvcWytd_KqQ"
      }
    },
    {
      "cell_type": "code",
      "source": [
        "import kagglehub\n",
        "path = kagglehub.dataset_download(\"obulisainaren/multi-cancer\")\n",
        "print(\"Path to dataset files:\", path)"
      ],
      "metadata": {
        "id": "bycyfMoIqEJr",
        "colab": {
          "base_uri": "https://localhost:8080/"
        },
        "outputId": "4d0c3dfb-e258-4fe3-c045-92eae97f1965"
      },
      "execution_count": 2,
      "outputs": [
        {
          "output_type": "stream",
          "name": "stdout",
          "text": [
            "Path to dataset files: /kaggle/input/multi-cancer\n"
          ]
        }
      ]
    },
    {
      "cell_type": "markdown",
      "source": [
        "Make sure you know how to navigate this dataset. Read the documentation as necessary from the README file: [Multi Cancer Dataset](https://www.kaggle.com/datasets/obulisainaren/multi-cancer)"
      ],
      "metadata": {
        "id": "4z2tzeSGANZ4"
      }
    },
    {
      "cell_type": "code",
      "source": [
        "# Explore file directory structure\n",
        "!ls \"$path\"\n",
        "%cd \"$path/Multi Cancer/Multi Cancer/Breast Cancer\"\n",
        "!ls"
      ],
      "metadata": {
        "id": "xwzkK_73swul",
        "colab": {
          "base_uri": "https://localhost:8080/"
        },
        "outputId": "95234ce1-b6d4-4deb-e539-277984205be0"
      },
      "execution_count": 3,
      "outputs": [
        {
          "output_type": "stream",
          "name": "stdout",
          "text": [
            "'Multi Cancer'\t README.md\n",
            "/kaggle/input/multi-cancer/Multi Cancer/Multi Cancer/Breast Cancer\n",
            "breast_benign  breast_malignant\n"
          ]
        }
      ]
    },
    {
      "cell_type": "markdown",
      "source": [
        "Since the Multi Cancer Dataset is quite large and contains many different types of cancers, we'll further simplify our directory structure by copying only the subset of breast cancer data we want, then splitting into `training` and `valuation` folders.\n",
        "\n",
        "We use `/content/multi-cancer-subset` as our local directory for storing our breast cancer subset. `/content` is simply Google Colab's home directory (which you can find on the sidebar, under the Folder icon). You may change this as you need."
      ],
      "metadata": {
        "id": "JnaDQq3UAb1F"
      }
    },
    {
      "cell_type": "code",
      "source": [
        "%rm -rf \"/content/multi-cancer-subset\""
      ],
      "metadata": {
        "id": "oJCp6Q9jxBBu"
      },
      "execution_count": 4,
      "outputs": []
    },
    {
      "cell_type": "code",
      "source": [
        "# Assume we want to focus on \"Breast Cancer\"\n",
        "# We'll create a subset for demonstration purposes\n",
        "# Make an easily accessible directory to store our subset\n",
        "subset_dir = \"/content/multi-cancer-subset\"\n",
        "os.makedirs(os.path.join(subset_dir),exist_ok=True)\n",
        "\n",
        "train_dir = os.path.join(subset_dir, \"train\")\n",
        "val_dir = os.path.join(subset_dir, \"val\")\n",
        "\n",
        "# Create the necessary directories\n",
        "os.makedirs(os.path.join(train_dir, \"breast_benign\"), exist_ok=True)\n",
        "os.makedirs(os.path.join(train_dir, \"breast_malignant\"), exist_ok=True)\n",
        "os.makedirs(os.path.join(val_dir, \"breast_benign\"), exist_ok=True)\n",
        "os.makedirs(os.path.join(val_dir, \"breast_malignant\"), exist_ok=True)"
      ],
      "metadata": {
        "id": "KOEH-R_NxVgd"
      },
      "execution_count": 5,
      "outputs": []
    },
    {
      "cell_type": "code",
      "source": [
        "# Prepare to a small number of images from the original dataset to local directory paths\n",
        "breast_benign_path = os.path.join(path, \"Multi Cancer/Multi Cancer/Breast Cancer\", \"breast_benign\")\n",
        "breast_malignant_path = os.path.join(path, \"Multi Cancer/Multi Cancer/Breast Cancer\", \"breast_malignant\")"
      ],
      "metadata": {
        "id": "O_GuKZFTx9VY"
      },
      "execution_count": 6,
      "outputs": []
    },
    {
      "cell_type": "code",
      "source": [
        "# Get image files\n",
        "benign_images = sorted([f for f in os.listdir(breast_benign_path) if f.endswith(\".jpg\")])\n",
        "malignant_images = sorted([f for f in os.listdir(breast_malignant_path) if f.endswith(\".jpg\")])\n",
        "\n",
        "# Copy images (using only a small subset)\n",
        "# Let's take 20 images for train and 10 for val from each class.\n",
        "# You can change the proportion of valuation data out of total data.\n",
        "\n",
        "\n",
        "for img in benign_images[:20]:\n",
        "    shutil.copy(os.path.join(breast_benign_path, img), os.path.join(train_dir, \"breast_benign\"))\n",
        "for img in benign_images[-10:]:\n",
        "    shutil.copy(os.path.join(breast_benign_path, img), os.path.join(val_dir, \"breast_benign\"))\n",
        "\n",
        "for img in malignant_images[:20]:\n",
        "    shutil.copy(os.path.join(breast_malignant_path, img), os.path.join(train_dir, \"breast_malignant\"))\n",
        "for img in malignant_images[-10:]:\n",
        "    shutil.copy(os.path.join(breast_malignant_path, img), os.path.join(val_dir, \"breast_malignant\"))\n",
        "\n",
        "\n",
        "# # HINT: For making the portion sizing more ubiguitous\n",
        "# val_data_proportion = 0.2\n",
        "# num_benign_data = len(benign_images)\n",
        "# num_malignant_data = len(malignant_images)"
      ],
      "metadata": {
        "id": "Nd9LRpCRyM97"
      },
      "execution_count": 7,
      "outputs": []
    },
    {
      "cell_type": "code",
      "source": [
        "print(\"Created a small train/val subset in:\", subset_dir)"
      ],
      "metadata": {
        "id": "SHnH1BkfrByb",
        "colab": {
          "base_uri": "https://localhost:8080/"
        },
        "outputId": "8512522b-5524-4294-c283-64f31221ca64"
      },
      "execution_count": 8,
      "outputs": [
        {
          "output_type": "stream",
          "name": "stdout",
          "text": [
            "Created a small train/val subset in: /content/multi-cancer-subset\n"
          ]
        }
      ]
    },
    {
      "cell_type": "markdown",
      "source": [
        "## Data Preprocessing"
      ],
      "metadata": {
        "id": "3aO2OPgF4TXJ"
      }
    },
    {
      "cell_type": "markdown",
      "source": [
        "Now that we've organized our data into training and validation sets, it's time to preprocess the images and apply augmentation techniques. Data augmentation helps in artificially increasing the diversity of our training data, which can lead to better model generalization."
      ],
      "metadata": {
        "id": "7cJg9XY2A4VY"
      }
    },
    {
      "cell_type": "markdown",
      "source": [
        "First, we perform potential transformations on the images of the data. Here are some potential functions to use:\n",
        "1. `Resize`: `transforms.Resize((512,512))` resizes to the image to `512px x 512px`\n",
        "2. `RandomRotation`: `transforms.RandomRotation(10)` randomly rotates images within a range of +/- 10 degrees.\n",
        "3. `RandomHorizontalFlip`\n",
        "4. `RandomResizedCrop`\n",
        "5. `CenterCrop`\n",
        "\n",
        "Once you're done with transformations, you should then use `ToTensor` and `Normalize` to make sure the results still follow input data characertistics.\n",
        "\n",
        "\n",
        "**HINTS:**\n",
        "* The images are currently `512px × 512px`. This is big and will potentially be slow to train; should we resize to lower dimensions? Maybe... `224px x 224 px`?\n",
        "*  `RandomRotation()`, `RandomHorizontalFlip()`, `RandomResizedCrop()` can all be applied with whatever parameters you feel is fitting.\n",
        "* Notice that we didn't give example implementations for every function. To figure out how to use them, **write the function in code and hover your mouse over the function name.** Google Colab should automatically pop up documentation.\n",
        "* `val_transforms` should also have a `ToTensor()` and `Normalize()` after applying the transformations. You can directly use the lines from `train_transforms` as reference for how to implement it in `val_transforms`."
      ],
      "metadata": {
        "id": "513TW8oGCNVj"
      }
    },
    {
      "cell_type": "code",
      "source": [
        "train_transforms = transforms.Compose([\n",
        "    # TODO\n",
        "    transforms.Resize((224,224)),\n",
        "    transforms.RandomRotation(10),\n",
        "    transforms.RandomResizedCrop(224, scale=(0.8, 1.0)),\n",
        "    transforms.RandomHorizontalFlip(),\n",
        "    # ENDTODO\n",
        "    transforms.ToTensor(),\n",
        "    transforms.Normalize((0.5, 0.5, 0.5), (0.5, 0.5, 0.5))\n",
        "])\n",
        "\n",
        "val_transforms = transforms.Compose([\n",
        "    # TODO\n",
        "    transforms.Resize((224,224)),\n",
        "    transforms.CenterCrop(224),\n",
        "    transforms.ToTensor(),\n",
        "    transforms.Normalize((0.5, 0.5, 0.5), (0.5, 0.5, 0.5))\n",
        "    # ENDTODO\n",
        "])"
      ],
      "metadata": {
        "id": "8Yu3oUpMzA7F"
      },
      "execution_count": 9,
      "outputs": []
    },
    {
      "cell_type": "code",
      "source": [
        "# Create datasets from the subset directories\n",
        "train_dataset = datasets.ImageFolder(train_dir, transform=train_transforms)\n",
        "val_dataset = datasets.ImageFolder(val_dir, transform=val_transforms)\n",
        "\n",
        "train_loader = DataLoader(train_dataset, batch_size=64, shuffle=True)  # Updated batch size after random search\n",
        "val_loader = DataLoader(val_dataset, batch_size=64, shuffle=False)  # Updated batch size after random search\n",
        "\n",
        "class_names = train_dataset.classes\n",
        "print(\"Classes:\", class_names)"
      ],
      "metadata": {
        "id": "zZhPDLpF0Chf",
        "colab": {
          "base_uri": "https://localhost:8080/"
        },
        "outputId": "3d283e21-6ab5-4b84-9dd9-0c4f439092ed"
      },
      "execution_count": 123,
      "outputs": [
        {
          "output_type": "stream",
          "name": "stdout",
          "text": [
            "Classes: ['breast_benign', 'breast_malignant']\n"
          ]
        }
      ]
    },
    {
      "cell_type": "markdown",
      "source": [
        "## Defining the CNN"
      ],
      "metadata": {
        "id": "7FaARNkAv_Kn"
      }
    },
    {
      "cell_type": "markdown",
      "source": [
        "With our data preprocessed and loaded, we can now define a simple Convolutional Neural Network (CNN) using PyTorch. CNNs are particularly effective for image classification tasks due to their ability to capture spatial hierarchies in images."
      ],
      "metadata": {
        "id": "_J22a7fjBr2e"
      }
    },
    {
      "cell_type": "code",
      "source": [
        "device = torch.device(\"cuda\" if torch.cuda.is_available() else \"cpu\")\n",
        "print(\"Using device:\", device)"
      ],
      "metadata": {
        "id": "nYJlT7Jc0aGh",
        "colab": {
          "base_uri": "https://localhost:8080/"
        },
        "outputId": "6829c9e8-0040-4457-d980-c01381a60698"
      },
      "execution_count": 66,
      "outputs": [
        {
          "output_type": "stream",
          "name": "stdout",
          "text": [
            "Using device: cpu\n"
          ]
        }
      ]
    },
    {
      "cell_type": "markdown",
      "source": [
        "Here are some potential layers to use:\n",
        "1. `nn.Conv2d`\n",
        "2. `nn.MaxPool2d`\n",
        "3. `nn.Linear`\n",
        "4. `nn.Dropout`\n",
        "\n",
        "Make sure your layers are connected (dimensions match).\n",
        "\n",
        "**HINT**:\n",
        "* We've implemented a similar CNN on Day 4. Feel free to use it as reference!\n",
        "* For the `Conv2d` function, the first parameter is the `in_channel`. Here, we're working with RGB colored images--how many channels should we allow? (Think: RGB.)\n"
      ],
      "metadata": {
        "id": "xWKNBYkSWDFX"
      }
    },
    {
      "cell_type": "code",
      "source": [
        "class SimpleCNN(nn.Module):\n",
        "    def __init__(self, num_classes=2):\n",
        "        super(SimpleCNN, self).__init__()\n",
        "        # TODO: Add 2 Conv2d layers, then a MaxPool2d layer.\n",
        "        self.conv1 = nn.Conv2d(3, 32, kernel_size=3, padding=1)\n",
        "        self.conv2 = nn.Conv2d(32, 64, kernel_size=3, padding=1)\n",
        "        self.pool = nn.MaxPool2d(2, 2)\n",
        "        # ENDTODO\n",
        "\n",
        "        self.fc1 = nn.Linear(64 * 56 * 56, 256)\n",
        "\n",
        "        # TODO: Add another Linear layer, ending with the number of classes, then a Dropout layer.\n",
        "        self.fc2 = nn.Linear(256, num_classes)\n",
        "        self.dropout = nn.Dropout(0.5)\n",
        "        # ENDTODO\n",
        "\n",
        "\n",
        "    def forward(self, x):\n",
        "        x = self.pool(torch.relu(self.conv1(x)))\n",
        "        x = self.pool(torch.relu(self.conv2(x)))\n",
        "        x = x.view(-1, 64 * 56 * 56)\n",
        "        x = torch.relu(self.fc1(x))\n",
        "        x = self.dropout(x)\n",
        "        x = self.fc2(x)\n",
        "        return x\n",
        "\n",
        "model = SimpleCNN(num_classes=len(class_names)).to(device)\n",
        "print(model)"
      ],
      "metadata": {
        "id": "eBZL4e7m0Q7l",
        "colab": {
          "base_uri": "https://localhost:8080/"
        },
        "outputId": "3898f922-9e39-4b34-be3f-e0c2a0c1ee72"
      },
      "execution_count": 67,
      "outputs": [
        {
          "output_type": "stream",
          "name": "stdout",
          "text": [
            "SimpleCNN(\n",
            "  (conv1): Conv2d(3, 32, kernel_size=(3, 3), stride=(1, 1), padding=(1, 1))\n",
            "  (conv2): Conv2d(32, 64, kernel_size=(3, 3), stride=(1, 1), padding=(1, 1))\n",
            "  (pool): MaxPool2d(kernel_size=2, stride=2, padding=0, dilation=1, ceil_mode=False)\n",
            "  (fc1): Linear(in_features=200704, out_features=256, bias=True)\n",
            "  (fc2): Linear(in_features=256, out_features=2, bias=True)\n",
            "  (dropout): Dropout(p=0.5, inplace=False)\n",
            ")\n"
          ]
        }
      ]
    },
    {
      "cell_type": "markdown",
      "source": [
        "## CNN Model Training"
      ],
      "metadata": {
        "id": "90nOwa4cwEaV"
      }
    },
    {
      "cell_type": "markdown",
      "source": [
        "With our CNN defined, the next step is to train it using our prepared dataset. Training involves feeding data through the network, computing loss, and updating the model's weights to minimize that loss.\n",
        "\n",
        "**Hint:**\n",
        "* For `learning_rate`, choose a slower rate that we have used before during class.\n",
        "* For `num_epochs`, keep it low so we can train faster while we're still developing. Just 1-2 epochs is fine."
      ],
      "metadata": {
        "id": "I0bwLM-ZBvOt"
      }
    },
    {
      "cell_type": "code",
      "source": [
        "# TODO\n",
        "learning_rate = 0.0001  # Optimal learning rate after random search\n",
        "num_epochs = 4\n",
        "# ENDTODO\n",
        "\n",
        "optimizer = optim.Adam(model.parameters(), lr=learning_rate)\n",
        "criterion = nn.CrossEntropyLoss()"
      ],
      "metadata": {
        "id": "E6WAJ6Ai0jeB"
      },
      "execution_count": 68,
      "outputs": []
    },
    {
      "cell_type": "markdown",
      "source": [
        "Now, we want to train over the given number of epochs. We'll keep track of some statistics per epoch."
      ],
      "metadata": {
        "id": "Prfcw5PH4pxK"
      }
    },
    {
      "cell_type": "code",
      "source": [
        "for epoch in range(num_epochs):\n",
        "    model.train()\n",
        "    running_loss = 0.0\n",
        "    running_corrects = 0\n",
        "    total = 0\n",
        "\n",
        "    for inputs, labels in train_loader:\n",
        "        inputs, labels = inputs.to(device), labels.to(device)\n",
        "\n",
        "        optimizer.zero_grad()\n",
        "        outputs = model(inputs)\n",
        "        loss = criterion(outputs, labels)\n",
        "        loss.backward()\n",
        "        optimizer.step()\n",
        "\n",
        "        _, preds = torch.max(outputs, 1)\n",
        "        running_loss += loss.item() * inputs.size(0)\n",
        "        running_corrects += torch.sum(preds == labels).item()\n",
        "        total += labels.size(0)\n",
        "\n",
        "    # TODO: Average our accumulated loss and accuracy with the total number of samples processed.\n",
        "    epoch_loss = running_loss / total\n",
        "    epoch_acc = running_corrects / total\n",
        "    # ENDTODO\n",
        "    print(f\"Epoch {epoch+1}/{num_epochs} - Loss: {epoch_loss:.4f}, Acc: {epoch_acc:.4f}\")"
      ],
      "metadata": {
        "id": "u6DFFtBt0pJC",
        "colab": {
          "base_uri": "https://localhost:8080/"
        },
        "outputId": "22af28fa-df6f-4a85-91a4-8eb9608f448b"
      },
      "execution_count": 69,
      "outputs": [
        {
          "output_type": "stream",
          "name": "stdout",
          "text": [
            "Epoch 1/4 - Loss: 0.6949, Acc: 0.5750\n",
            "Epoch 2/4 - Loss: 0.6644, Acc: 0.5750\n",
            "Epoch 3/4 - Loss: 1.0405, Acc: 0.5000\n",
            "Epoch 4/4 - Loss: 0.6475, Acc: 0.6750\n"
          ]
        }
      ]
    },
    {
      "cell_type": "markdown",
      "source": [
        "## CNN Model Evaluation"
      ],
      "metadata": {
        "id": "nnsvMdX14meN"
      }
    },
    {
      "cell_type": "markdown",
      "source": [
        "After training, it's crucial to evaluate our model's performance on a separate validation set to understand how well it generalizes to unseen data."
      ],
      "metadata": {
        "id": "PJPS2_jgByNj"
      }
    },
    {
      "cell_type": "code",
      "source": [
        "model.eval()\n",
        "val_running_corrects = 0\n",
        "val_total = 0\n",
        "all_preds = []\n",
        "all_labels = []\n",
        "\n",
        "with torch.no_grad():\n",
        "    for inputs, labels in val_loader:\n",
        "        inputs, labels = inputs.to(device), labels.to(device)\n",
        "        outputs = model(inputs)\n",
        "        _, preds = torch.max(outputs, 1)\n",
        "        val_running_corrects += torch.sum(preds == labels).item()\n",
        "        val_total += labels.size(0)\n",
        "        all_preds.append(preds.cpu().numpy())\n",
        "        all_labels.append(labels.cpu().numpy())\n",
        "\n",
        "# TODO\n",
        "val_acc = val_running_corrects / val_total\n",
        "# ENDTODO\n",
        "print(f\"Validation Accuracy: {val_acc:.4f}\")\n",
        "\n",
        "all_preds = np.concatenate(all_preds)\n",
        "all_labels = np.concatenate(all_labels)"
      ],
      "metadata": {
        "id": "th2DToHv0uX7",
        "colab": {
          "base_uri": "https://localhost:8080/"
        },
        "outputId": "59f53bcc-7262-4392-f2f7-def7947a0fb5"
      },
      "execution_count": 70,
      "outputs": [
        {
          "output_type": "stream",
          "name": "stdout",
          "text": [
            "Validation Accuracy: 0.5000\n"
          ]
        }
      ]
    },
    {
      "cell_type": "markdown",
      "source": [
        "# Transfer Learning: Using a Pretrained Model (ResNet)\n",
        "\n",
        "While our simple CNN provides a foundational understanding, leveraging more advanced architectures like ResNet can lead to improved performance. ResNet (Residual Network) is renowned for its deep architecture and ability to mitigate issues like vanishing gradients through skip connections."
      ],
      "metadata": {
        "id": "LfWPKURGB126"
      }
    },
    {
      "cell_type": "code",
      "source": [
        "from torchvision import models\n",
        "\n",
        "# 1. Load a pretrained ResNet model\n",
        "resnet_model = models.resnet18(pretrained=True)\n",
        "\n",
        "num_neurons = 224 # Updated amount after random search, original was 256\n"
      ],
      "metadata": {
        "id": "N5_qpXWG434c"
      },
      "execution_count": 124,
      "outputs": []
    },
    {
      "cell_type": "code",
      "source": [
        "# 2. Modify the final layer to match the number of classes in our dataset\n",
        "# The original ResNet18 has a final layer with 1000 outputs. We have 2 classes.\n",
        "num_features = resnet_model.fc.in_features\n",
        "resnet_model.fc = nn.Sequential(\n",
        "    nn.Dropout(p=0.5),\n",
        "    nn.Linear(num_features, num_neurons),\n",
        "    nn.ReLU(inplace=True),\n",
        "    nn.Dropout(p=0.5),\n",
        "    nn.Linear(num_neurons, len(class_names))\n",
        ")\n",
        "\n",
        "resnet_model = resnet_model.to(device)"
      ],
      "metadata": {
        "id": "pBFqq-Zq45pp"
      },
      "execution_count": 125,
      "outputs": []
    },
    {
      "cell_type": "code",
      "source": [
        "# 3. Optionally, freeze some layers to speed up training and rely on learned features.\n",
        "# For example, to freeze all but the final layer:\n",
        "# for param in resnet_model.parameters():\n",
        "#     param.requires_grad = False\n",
        "# for param in resnet_model.fc.parameters():\n",
        "#     param.requires_grad = True\n",
        "#\n",
        "# In this example, let's train all layers for better results, but with a small dataset,\n",
        "# this might lead to overfitting. Adjust based on performance.\n",
        "\n",
        "# Define optimizer and criterion for ResNet\n",
        "\n",
        "# TODO. Hint: This is very similar to the CNN criterion and optimizer.\n",
        "resnet_criterion = nn.CrossEntropyLoss()\n",
        "resnet_optimizer = optim.Adam(resnet_model.parameters(), lr=learning_rate)\n",
        "# ENDTODO\n",
        "\n",
        "resnet_num_epochs = 4  # Optimal amt of Epochs after random search"
      ],
      "metadata": {
        "id": "21O8Xgd247Wp"
      },
      "execution_count": 126,
      "outputs": []
    },
    {
      "cell_type": "code",
      "source": [
        "def train_one_epoch(model, dataloader, optimizer, criterion, device):\n",
        "    model.train()\n",
        "    running_loss = 0.0\n",
        "    running_corrects = 0\n",
        "    total = 0\n",
        "\n",
        "    for inputs, labels in dataloader:\n",
        "        inputs, labels = inputs.to(device), labels.to(device)\n",
        "\n",
        "        optimizer.zero_grad()\n",
        "        outputs = model(inputs)\n",
        "        loss = criterion(outputs, labels)\n",
        "        loss.backward()\n",
        "        optimizer.step()\n",
        "\n",
        "        _, preds = torch.max(outputs, 1)\n",
        "        running_loss += loss.item() * inputs.size(0)\n",
        "        running_corrects+= torch.sum(preds == labels).item()\n",
        "        total += labels.size(0)\n",
        "\n",
        "    # TODO\n",
        "    epoch_loss = running_loss / total\n",
        "    epoch_acc = running_corrects / total\n",
        "    # ENDTODO\n",
        "    return epoch_loss, epoch_acc"
      ],
      "metadata": {
        "id": "5oRIKNRY49Kf"
      },
      "execution_count": 127,
      "outputs": []
    },
    {
      "cell_type": "code",
      "source": [
        "for epoch in range(resnet_num_epochs):\n",
        "    epoch_loss, epoch_acc = train_one_epoch(\n",
        "        resnet_model,\n",
        "        train_loader,\n",
        "        resnet_optimizer,\n",
        "        resnet_criterion,\n",
        "        device\n",
        "    )\n",
        "    print(f\"[ResNet] Epoch {epoch+1}/{resnet_num_epochs} - \"\n",
        "      f\"Loss: {epoch_loss:.4f}, Acc: {epoch_acc:.4f}\")"
      ],
      "metadata": {
        "colab": {
          "base_uri": "https://localhost:8080/"
        },
        "id": "85XzqrbbphCp",
        "outputId": "80a60389-7266-440a-8333-312105230387"
      },
      "execution_count": 128,
      "outputs": [
        {
          "output_type": "stream",
          "name": "stdout",
          "text": [
            "[ResNet] Epoch 1/4 - Loss: 0.8169, Acc: 0.3250\n",
            "[ResNet] Epoch 2/4 - Loss: 0.6798, Acc: 0.6000\n",
            "[ResNet] Epoch 3/4 - Loss: 0.5210, Acc: 0.6750\n",
            "[ResNet] Epoch 4/4 - Loss: 0.5484, Acc: 0.7750\n"
          ]
        }
      ]
    },
    {
      "cell_type": "code",
      "source": [
        "# 5. Evaluate the ResNet model on the validation set\n",
        "def evaluate(model, dataloader, device):\n",
        "    model.eval()\n",
        "    val_running_corrects = 0\n",
        "    val_total = 0\n",
        "    resnet_all_preds = []\n",
        "    resnet_all_labels = []\n",
        "\n",
        "    with torch.no_grad():\n",
        "        for inputs, labels in dataloader:\n",
        "            inputs, labels = inputs.to(device), labels.to(device)\n",
        "            outputs = model(inputs)\n",
        "            _, preds = torch.max(outputs, 1)\n",
        "            val_running_corrects += torch.sum(preds == labels).item()\n",
        "            val_total += labels.size(0)\n",
        "            resnet_all_preds.append(preds.cpu().numpy())\n",
        "            resnet_all_labels.append(labels.cpu().numpy())\n",
        "\n",
        "    resnet_val_acc = val_running_corrects / val_total\n",
        "\n",
        "    resnet_all_preds = np.concatenate(resnet_all_preds)\n",
        "    resnet_all_labels = np.concatenate(resnet_all_labels)\n",
        "    return resnet_val_acc, resnet_all_preds, resnet_all_labels"
      ],
      "metadata": {
        "id": "ePXCDQoV5AJT"
      },
      "execution_count": 129,
      "outputs": []
    },
    {
      "cell_type": "code",
      "source": [
        "resnet_val_acc, resnet_all_preds, resnet_all_labels = evaluate(\n",
        "    resnet_model,\n",
        "    val_loader,\n",
        "    device\n",
        ")\n",
        "print(f\"[ResNet] Validation Accuracy: {resnet_val_acc:.4f}\")"
      ],
      "metadata": {
        "colab": {
          "base_uri": "https://localhost:8080/"
        },
        "id": "XLuVrY6hlct3",
        "outputId": "fe2141c9-429e-496b-e8b9-b18eaaf606cc"
      },
      "execution_count": 130,
      "outputs": [
        {
          "output_type": "stream",
          "name": "stdout",
          "text": [
            "[ResNet] Validation Accuracy: 0.7500\n"
          ]
        }
      ]
    },
    {
      "cell_type": "code",
      "source": [
        "from sklearn.model_selection import ParameterSampler"
      ],
      "metadata": {
        "id": "DDcv78kTS6SF"
      },
      "execution_count": 23,
      "outputs": []
    },
    {
      "cell_type": "code",
      "source": [
        "def make_resnet(num_neurons, num_classes, device):\n",
        "    resnet_model = models.resnet18(pretrained=True)\n",
        "    num_features = resnet_model.fc.in_features\n",
        "    resnet_model.fc = nn.Sequential(\n",
        "        nn.Dropout(p=0.5),\n",
        "        nn.Linear(num_features, num_neurons),\n",
        "        nn.ReLU(inplace=True),\n",
        "        nn.Dropout(p=0.5),\n",
        "        nn.Linear(num_neurons, len(class_names))\n",
        "    )\n",
        "    resnet_model = resnet_model.to(device)\n",
        "    return resnet_model"
      ],
      "metadata": {
        "id": "_3uTIILriVLl"
      },
      "execution_count": 24,
      "outputs": []
    },
    {
      "cell_type": "code",
      "source": [
        "param_dist = {\n",
        "    \"lr\":          [1e-4, 1e-3, 1e-2],\n",
        "    \"num_epochs\":  [2, 3, 4],\n",
        "    \"batch_size\":  [8, 16, 32, 64],\n",
        "    \"num_neurons\": [128, 224, 256, 512],\n",
        "}\n",
        "\n",
        "i=0\n",
        "n_iter = 6\n",
        "search_configs = list(ParameterSampler(param_dist, n_iter=n_iter, random_state=42))\n",
        "best_val_acc = 0.0\n",
        "best_cfg = None\n",
        "\n",
        "for cfg in search_configs:\n",
        "    i += 1\n",
        "    lr = cfg[\"lr\"]\n",
        "    num_epochs = cfg[\"num_epochs\"]\n",
        "    bs = cfg[\"batch_size\"]\n",
        "    hn = cfg[\"num_neurons\"]\n",
        "\n",
        "    # DataLoaders\n",
        "    train_loader = DataLoader(train_dataset, batch_size=bs, shuffle=True,  num_workers=4)\n",
        "    val_loader = DataLoader(val_dataset,   batch_size=bs, shuffle=False, num_workers=4)\n",
        "\n",
        "    # Build\n",
        "    resnet_model = make_resnet(hn, num_classes=len(class_names), device=device)\n",
        "    optimizer = optim.Adam(model.parameters(), lr=lr)\n",
        "    criterion = nn.CrossEntropyLoss()\n",
        "    # Train\n",
        "    for epoch in range(num_epochs):\n",
        "      epoch_loss, epoch_acc = train_one_epoch(\n",
        "        resnet_model, train_loader, optimizer, criterion, device\n",
        "      )\n",
        "    # Eval\n",
        "    val_acc, _, _ = evaluate(resnet_model, val_loader, device)\n",
        "\n",
        "    # Get best\n",
        "    if val_acc > best_val_acc:\n",
        "        best_val_acc = val_acc\n",
        "        best_cfg = cfg\n",
        "\n",
        "    print(i)\n",
        "\n",
        "print(f\"→ Best val_acc={best_val_acc:.4f} with config:\")\n",
        "print(best_cfg)"
      ],
      "metadata": {
        "colab": {
          "base_uri": "https://localhost:8080/"
        },
        "id": "kq5_hDTUS739",
        "outputId": "7317234a-e342-4729-ade0-7fc6c4bc122b"
      },
      "execution_count": 64,
      "outputs": [
        {
          "output_type": "stream",
          "name": "stdout",
          "text": [
            "1\n",
            "2\n",
            "3\n",
            "4\n",
            "5\n",
            "6\n",
            "→ Best val_acc=0.9000 with config:\n",
            "{'num_neurons': 224, 'num_epochs': 4, 'lr': 0.0001, 'batch_size': 64}\n"
          ]
        }
      ]
    },
    {
      "cell_type": "markdown",
      "source": [
        "## Comparing Convergence Results"
      ],
      "metadata": {
        "id": "G6EAMvtu-D_G"
      }
    },
    {
      "cell_type": "markdown",
      "source": [
        "To gain a deeper understanding of how both models perform over time, we'll track and visualize their training and validation loss and accuracy across epochs. This comparison will highlight the strengths and potential weaknesses of each architecture.\n",
        "\n",
        "This is a very versatile function--we highly recommend using it to compare results across models!"
      ],
      "metadata": {
        "id": "ysD9sW60Bpe6"
      }
    },
    {
      "cell_type": "code",
      "source": [
        "import matplotlib.pyplot as plt\n",
        "\n",
        "# Function to train and validate a model, returning history of losses and accuracies\n",
        "def train_and_validate(model, optimizer, criterion, train_loader, val_loader, num_epochs=2, device='cpu', model_name='Model'):\n",
        "    train_losses = []\n",
        "    train_accuracies = []\n",
        "    val_losses = []\n",
        "    val_accuracies = []\n",
        "\n",
        "    for epoch in range(num_epochs):\n",
        "        # Training phase\n",
        "        model.train()\n",
        "        running_loss = 0.0\n",
        "        running_corrects = 0\n",
        "        total = 0\n",
        "\n",
        "        for inputs, labels in train_loader:\n",
        "            inputs, labels = inputs.to(device), labels.to(device)\n",
        "            optimizer.zero_grad()\n",
        "            outputs = model(inputs)\n",
        "            loss = criterion(outputs, labels)\n",
        "            loss.backward()\n",
        "            optimizer.step()\n",
        "\n",
        "            _, preds = torch.max(outputs, 1)\n",
        "            running_loss += loss.item() * inputs.size(0)\n",
        "            running_corrects += torch.sum(preds == labels).item()\n",
        "            total += labels.size(0)\n",
        "\n",
        "        # TODO\n",
        "        epoch_loss = running_loss / total\n",
        "        epoch_acc = running_corrects / total\n",
        "        # ENDTODO\n",
        "\n",
        "        train_losses.append(epoch_loss)\n",
        "        train_accuracies.append(epoch_acc)\n",
        "\n",
        "        # Validation phase\n",
        "        model.eval()\n",
        "        val_running_loss = 0.0\n",
        "        val_running_corrects = 0\n",
        "        val_total = 0\n",
        "        with torch.no_grad():\n",
        "            for inputs, labels in val_loader:\n",
        "                inputs, labels = inputs.to(device), labels.to(device)\n",
        "                outputs = model(inputs)\n",
        "                loss = criterion(outputs, labels)\n",
        "                _, preds = torch.max(outputs, 1)\n",
        "                val_running_loss += loss.item() * inputs.size(0)\n",
        "                val_running_corrects += torch.sum(preds == labels).item()\n",
        "                val_total += labels.size(0)\n",
        "\n",
        "        # TODO\n",
        "        val_loss = val_running_loss / val_total\n",
        "        val_acc = val_running_corrects / val_total\n",
        "        # ENDTODO\n",
        "\n",
        "        val_losses.append(val_loss)\n",
        "        val_accuracies.append(val_acc)\n",
        "\n",
        "        print(f\"[{model_name}] Epoch {epoch+1}/{num_epochs} - \"\n",
        "              f\"Train Loss: {epoch_loss:.4f}, Train Acc: {epoch_acc:.4f}, \"\n",
        "              f\"Val Loss: {val_loss:.4f}, Val Acc: {val_acc:.4f}\")\n",
        "\n",
        "    return {\n",
        "        'train_loss': train_losses,\n",
        "        'train_acc': train_accuracies,\n",
        "        'val_loss': val_losses,\n",
        "        'val_acc': val_accuracies\n",
        "    }\n"
      ],
      "metadata": {
        "id": "V4UdRzyl-DgX"
      },
      "execution_count": 114,
      "outputs": []
    },
    {
      "cell_type": "markdown",
      "source": [
        "First, let us train and validate our simple CNN model, and store its history of results."
      ],
      "metadata": {
        "id": "_yegQB21YJvE"
      }
    },
    {
      "cell_type": "code",
      "source": [
        "# Assuming 'model' is your SimpleCNN and you've already defined optimizer and criterion\n",
        "cnn_history = train_and_validate(model, optimizer, criterion, train_loader, val_loader,\n",
        "                                 num_epochs=4, device=device, model_name=\"CNN\")\n"
      ],
      "metadata": {
        "id": "qk4OCadR5KNH",
        "colab": {
          "base_uri": "https://localhost:8080/"
        },
        "outputId": "d40c2756-708b-4494-8a6f-7095d850dd3b"
      },
      "execution_count": 82,
      "outputs": [
        {
          "output_type": "stream",
          "name": "stdout",
          "text": [
            "[CNN] Epoch 1/4 - Train Loss: 0.3461, Train Acc: 0.8750, Val Loss: 1.3379, Val Acc: 0.5000\n",
            "[CNN] Epoch 2/4 - Train Loss: 0.3182, Train Acc: 0.9000, Val Loss: 1.3420, Val Acc: 0.5000\n",
            "[CNN] Epoch 3/4 - Train Loss: 0.2860, Train Acc: 0.9250, Val Loss: 1.3037, Val Acc: 0.4500\n",
            "[CNN] Epoch 4/4 - Train Loss: 0.2235, Train Acc: 0.9250, Val Loss: 1.2754, Val Acc: 0.4000\n"
          ]
        }
      ]
    },
    {
      "cell_type": "markdown",
      "source": [
        "Now, let us train and validate the ResNet model,and store its history of results."
      ],
      "metadata": {
        "id": "sdT0-joUYPhU"
      }
    },
    {
      "cell_type": "code",
      "source": [
        "from torchvision import models\n",
        "\n",
        "resnet_model = models.resnet18(pretrained=True)\n",
        "num_features = resnet_model.fc.in_features\n",
        "resnet_model.fc = nn.Linear(num_features, len(class_names))\n",
        "resnet_model = resnet_model.to(device)\n",
        "\n",
        "resnet_optimizer = optim.Adam(resnet_model.parameters(), lr=0.0001)\n",
        "resnet_criterion = nn.CrossEntropyLoss()\n",
        "\n",
        "resnet_history = train_and_validate(resnet_model, resnet_optimizer, resnet_criterion,\n",
        "                                    train_loader, val_loader,\n",
        "                                    num_epochs=4, device=device, model_name=\"ResNet\")\n"
      ],
      "metadata": {
        "id": "uHcnA5cr-Jcn",
        "colab": {
          "base_uri": "https://localhost:8080/"
        },
        "outputId": "ff462a2c-6c3d-43e1-ae5a-de3b0595bc07"
      },
      "execution_count": 131,
      "outputs": [
        {
          "output_type": "stream",
          "name": "stdout",
          "text": [
            "[ResNet] Epoch 1/4 - Train Loss: 0.7104, Train Acc: 0.5750, Val Loss: 0.4360, Val Acc: 0.9500\n",
            "[ResNet] Epoch 2/4 - Train Loss: 0.3267, Train Acc: 0.9750, Val Loss: 0.3800, Val Acc: 0.8500\n",
            "[ResNet] Epoch 3/4 - Train Loss: 0.1559, Train Acc: 1.0000, Val Loss: 0.3514, Val Acc: 0.9000\n",
            "[ResNet] Epoch 4/4 - Train Loss: 0.0788, Train Acc: 1.0000, Val Loss: 0.3307, Val Acc: 0.8500\n"
          ]
        }
      ]
    },
    {
      "cell_type": "markdown",
      "source": [
        "Now let's plot our performance results and compare the two models!"
      ],
      "metadata": {
        "id": "fMlv8H3bYGB0"
      }
    },
    {
      "cell_type": "code",
      "source": [
        "# Plot loss comparison\n",
        "plt.figure(figsize=(10, 5))\n",
        "plt.subplot(1, 2, 1)\n",
        "plt.plot(cnn_history['train_loss'], label='CNN Train Loss', marker='o')\n",
        "plt.plot(cnn_history['val_loss'], label='CNN Val Loss', marker='o')\n",
        "plt.plot(resnet_history['train_loss'], label='ResNet Train Loss', marker='s')\n",
        "plt.plot(resnet_history['val_loss'], label='ResNet Val Loss', marker='s')\n",
        "plt.title('Training and Validation Loss')\n",
        "plt.xlabel('Epoch')\n",
        "plt.ylabel('Loss')\n",
        "plt.legend()\n",
        "\n",
        "# Plot accuracy comparison\n",
        "plt.subplot(1, 2, 2)\n",
        "plt.plot(cnn_history['train_acc'], label='CNN Train Acc', marker='o')\n",
        "plt.plot(cnn_history['val_acc'], label='CNN Val Acc', marker='o')\n",
        "plt.plot(resnet_history['train_acc'], label='ResNet Train Acc', marker='s')\n",
        "plt.plot(resnet_history['val_acc'], label='ResNet Val Acc', marker='s')\n",
        "plt.title('Training and Validation Accuracy')\n",
        "plt.xlabel('Epoch')\n",
        "plt.ylabel('Accuracy')\n",
        "plt.legend()\n",
        "\n",
        "plt.tight_layout()\n",
        "plt.show()\n"
      ],
      "metadata": {
        "id": "hKfTeRT--M09",
        "colab": {
          "base_uri": "https://localhost:8080/",
          "height": 507
        },
        "outputId": "c7206e41-74d9-43fa-d9b7-85cf6c1d2a47"
      },
      "execution_count": 132,
      "outputs": [
        {
          "output_type": "display_data",
          "data": {
            "text/plain": [
              "<Figure size 1000x500 with 2 Axes>"
            ],
            "image/png": "[encoded data removed]"
          },
          "metadata": {}
        }
      ]
    },
    {
      "cell_type": "markdown",
      "source": [
        "## Implementing Your Extensions\n",
        "\n",
        "In this tutorial, we have shown you an example of one possible extension: **Transfer Learning**. In other words, we used a pretrained model (e.g. ResNet18) and fine-tuned the last few layers for this specific classification task, comparing performance and training time.\n",
        "\n",
        "**Potential Ideas for Further Extensions:**\n",
        "\n",
        "\n",
        "1.   **Architecture Tuning**: Adding more convolutional layers, adjusting the number of filters, introducting dropout layers before fully connected layers to reduce overfitting.\n",
        "2.   **Hyperparameter Adjustments**: Change the learning rate, use a different optimizer (SGD, RMSprop), or vary the batch size, train for more epochs and compare performance.\n",
        "3. **Data Augmentation**: Incorporate different transformations (flips, rotations, crops) to improve generalization.\n",
        "4. **Propose Different Models and Compare Results**: We have already defined a function that can easily allow you to compare the convergence results for different models (`train_and_validate`). Make more models, justify your choices, and compare your performance!\n",
        "\n",
        "Reminder that our `train_and_validate` function can be very helpful to compare results across design decisions!\n",
        "\n"
      ],
      "metadata": {
        "id": "eSlB04k8wPci"
      }
    }
  ]
}